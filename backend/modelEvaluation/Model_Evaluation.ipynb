{
 "cells": [
  {
   "cell_type": "markdown",
   "metadata": {},
   "source": [
    "## Model Evaluation  \n",
    "\n",
    "### Introduction\n",
    "Our project requires a model that can count how many cars are on a road at any time.  \n",
    "We identified YOLO as the best model for this task. We further narrowed down our options\n",
    "to two specific YOLO models.  \n",
    "Thus, we wish to evaluate how these two models perform: Yolo V4 & YOLOX + SAHI.  \n",
    "\n",
    "### Data Labelling  \n",
    "To evaluate our two models, we first needed to create suitable data for us to be able to \n",
    "evaluate our models.  \n",
    "Thus, we chose 100 random images of roads in Singapore and labelled manually how many cars were in each image.  \n",
    "With these values, we calculated the traffic density of the roads in each image.\n",
    "\n",
    "### Metrics\n",
    "After labelling our data we decided to test our two models on two metrics:   \n",
    "1) Time taken  \n",
    "2) Accuracy (using Mean Squared Error)\n",
    "\n",
    "### Training  \n",
    "We used both models to count how many cars were in all 100 images.  \n",
    "We then used this data to calculate the traffic density on the roads of each image.  \n",
    "Furthermore, we timed how long the total time taken to evaluate the traffic density of each image took.  \n",
    "All these data was collected and saved in modelEval.csv."
   ]
  },
  {
   "cell_type": "markdown",
   "metadata": {},
   "source": [
    "### Results"
   ]
  },
  {
   "cell_type": "code",
   "execution_count": 34,
   "metadata": {},
   "outputs": [
    {
     "data": {
      "text/html": [
       "<div>\n",
       "<style scoped>\n",
       "    .dataframe tbody tr th:only-of-type {\n",
       "        vertical-align: middle;\n",
       "    }\n",
       "\n",
       "    .dataframe tbody tr th {\n",
       "        vertical-align: top;\n",
       "    }\n",
       "\n",
       "    .dataframe thead th {\n",
       "        text-align: right;\n",
       "    }\n",
       "</style>\n",
       "<table border=\"1\" class=\"dataframe\">\n",
       "  <thead>\n",
       "    <tr style=\"text-align: right;\">\n",
       "      <th></th>\n",
       "      <th>Actual Values</th>\n",
       "      <th>YoloV4</th>\n",
       "      <th>YOLOX + SAHI</th>\n",
       "      <th>Time Yolo4</th>\n",
       "      <th>Time YOLOX + SAHI</th>\n",
       "    </tr>\n",
       "  </thead>\n",
       "  <tbody>\n",
       "    <tr>\n",
       "      <th>1</th>\n",
       "      <td>39.822575</td>\n",
       "      <td>33.043026</td>\n",
       "      <td>38.163661</td>\n",
       "      <td>4.289809</td>\n",
       "      <td>1.990627</td>\n",
       "    </tr>\n",
       "    <tr>\n",
       "      <th>2</th>\n",
       "      <td>4.956573</td>\n",
       "      <td>0.000000</td>\n",
       "      <td>1.872886</td>\n",
       "      <td>4.356466</td>\n",
       "      <td>1.908411</td>\n",
       "    </tr>\n",
       "    <tr>\n",
       "      <th>3</th>\n",
       "      <td>0.000000</td>\n",
       "      <td>0.000000</td>\n",
       "      <td>0.000000</td>\n",
       "      <td>4.389684</td>\n",
       "      <td>1.341397</td>\n",
       "    </tr>\n",
       "    <tr>\n",
       "      <th>4</th>\n",
       "      <td>62.860179</td>\n",
       "      <td>56.848109</td>\n",
       "      <td>61.332932</td>\n",
       "      <td>3.943468</td>\n",
       "      <td>1.473967</td>\n",
       "    </tr>\n",
       "    <tr>\n",
       "      <th>5</th>\n",
       "      <td>32.100283</td>\n",
       "      <td>25.114012</td>\n",
       "      <td>28.613427</td>\n",
       "      <td>4.089451</td>\n",
       "      <td>1.598938</td>\n",
       "    </tr>\n",
       "    <tr>\n",
       "      <th>...</th>\n",
       "      <td>...</td>\n",
       "      <td>...</td>\n",
       "      <td>...</td>\n",
       "      <td>...</td>\n",
       "      <td>...</td>\n",
       "    </tr>\n",
       "    <tr>\n",
       "      <th>96</th>\n",
       "      <td>13.688398</td>\n",
       "      <td>9.051104</td>\n",
       "      <td>11.756236</td>\n",
       "      <td>3.931993</td>\n",
       "      <td>1.097151</td>\n",
       "    </tr>\n",
       "    <tr>\n",
       "      <th>97</th>\n",
       "      <td>0.000000</td>\n",
       "      <td>0.000000</td>\n",
       "      <td>0.000000</td>\n",
       "      <td>4.337657</td>\n",
       "      <td>1.416976</td>\n",
       "    </tr>\n",
       "    <tr>\n",
       "      <th>98</th>\n",
       "      <td>0.000000</td>\n",
       "      <td>0.000000</td>\n",
       "      <td>0.000000</td>\n",
       "      <td>3.912691</td>\n",
       "      <td>1.516285</td>\n",
       "    </tr>\n",
       "    <tr>\n",
       "      <th>99</th>\n",
       "      <td>71.049435</td>\n",
       "      <td>62.764764</td>\n",
       "      <td>69.455032</td>\n",
       "      <td>3.856059</td>\n",
       "      <td>1.698233</td>\n",
       "    </tr>\n",
       "    <tr>\n",
       "      <th>100</th>\n",
       "      <td>40.498140</td>\n",
       "      <td>35.753999</td>\n",
       "      <td>39.021794</td>\n",
       "      <td>3.813031</td>\n",
       "      <td>1.208761</td>\n",
       "    </tr>\n",
       "  </tbody>\n",
       "</table>\n",
       "<p>100 rows × 5 columns</p>\n",
       "</div>"
      ],
      "text/plain": [
       "     Actual Values     YoloV4  YOLOX + SAHI  Time Yolo4  Time YOLOX + SAHI\n",
       "1        39.822575  33.043026     38.163661    4.289809           1.990627\n",
       "2         4.956573   0.000000      1.872886    4.356466           1.908411\n",
       "3         0.000000   0.000000      0.000000    4.389684           1.341397\n",
       "4        62.860179  56.848109     61.332932    3.943468           1.473967\n",
       "5        32.100283  25.114012     28.613427    4.089451           1.598938\n",
       "..             ...        ...           ...         ...                ...\n",
       "96       13.688398   9.051104     11.756236    3.931993           1.097151\n",
       "97        0.000000   0.000000      0.000000    4.337657           1.416976\n",
       "98        0.000000   0.000000      0.000000    3.912691           1.516285\n",
       "99       71.049435  62.764764     69.455032    3.856059           1.698233\n",
       "100      40.498140  35.753999     39.021794    3.813031           1.208761\n",
       "\n",
       "[100 rows x 5 columns]"
      ]
     },
     "execution_count": 34,
     "metadata": {},
     "output_type": "execute_result"
    }
   ],
   "source": [
    "import pandas as pd\n",
    "modelEval = pd.read_csv(\"modelEval.csv\", index_col = 0)\n",
    "modelEval"
   ]
  },
  {
   "cell_type": "markdown",
   "metadata": {},
   "source": [
    "### Time Evaluation  \n",
    "\n",
    "Time taken on average for Yolo 4:"
   ]
  },
  {
   "cell_type": "code",
   "execution_count": 21,
   "metadata": {},
   "outputs": [
    {
     "data": {
      "text/html": [
       "<div>\n",
       "<style scoped>\n",
       "    .dataframe tbody tr th:only-of-type {\n",
       "        vertical-align: middle;\n",
       "    }\n",
       "\n",
       "    .dataframe tbody tr th {\n",
       "        vertical-align: top;\n",
       "    }\n",
       "\n",
       "    .dataframe thead th {\n",
       "        text-align: right;\n",
       "    }\n",
       "</style>\n",
       "<table border=\"1\" class=\"dataframe\">\n",
       "  <thead>\n",
       "    <tr style=\"text-align: right;\">\n",
       "      <th></th>\n",
       "      <th>Average Time Taken</th>\n",
       "    </tr>\n",
       "  </thead>\n",
       "  <tbody>\n",
       "    <tr>\n",
       "      <th>Time Yolo4</th>\n",
       "      <td>3.961546</td>\n",
       "    </tr>\n",
       "    <tr>\n",
       "      <th>Time YOLOX + SAHI</th>\n",
       "      <td>1.725816</td>\n",
       "    </tr>\n",
       "  </tbody>\n",
       "</table>\n",
       "</div>"
      ],
      "text/plain": [
       "                   Average Time Taken\n",
       "Time Yolo4                   3.961546\n",
       "Time YOLOX + SAHI            1.725816"
      ]
     },
     "execution_count": 21,
     "metadata": {},
     "output_type": "execute_result"
    }
   ],
   "source": [
    "pd.DataFrame(modelEval[[\"Time Yolo4\", \"Time YOLOX + SAHI\"]].mean(), columns = [\"Average Time Taken\"])"
   ]
  },
  {
   "cell_type": "markdown",
   "metadata": {},
   "source": [
    "Therefore, YOLOX + SAHI is much faster on average than YOLO V4."
   ]
  },
  {
   "cell_type": "markdown",
   "metadata": {},
   "source": [
    "### Accuracy Evaluation\n",
    "\n",
    "Evaluate how accurate both models are by calculating Mean Square Error for both models:"
   ]
  },
  {
   "cell_type": "code",
   "execution_count": 33,
   "metadata": {},
   "outputs": [
    {
     "data": {
      "text/html": [
       "<div>\n",
       "<style scoped>\n",
       "    .dataframe tbody tr th:only-of-type {\n",
       "        vertical-align: middle;\n",
       "    }\n",
       "\n",
       "    .dataframe tbody tr th {\n",
       "        vertical-align: top;\n",
       "    }\n",
       "\n",
       "    .dataframe thead th {\n",
       "        text-align: right;\n",
       "    }\n",
       "</style>\n",
       "<table border=\"1\" class=\"dataframe\">\n",
       "  <thead>\n",
       "    <tr style=\"text-align: right;\">\n",
       "      <th></th>\n",
       "      <th>MSE</th>\n",
       "    </tr>\n",
       "  </thead>\n",
       "  <tbody>\n",
       "    <tr>\n",
       "      <th>YOLO V4</th>\n",
       "      <td>47.634512</td>\n",
       "    </tr>\n",
       "    <tr>\n",
       "      <th>YOLOX + SAHI</th>\n",
       "      <td>7.938731</td>\n",
       "    </tr>\n",
       "  </tbody>\n",
       "</table>\n",
       "</div>"
      ],
      "text/plain": [
       "                    MSE\n",
       "YOLO V4       47.634512\n",
       "YOLOX + SAHI   7.938731"
      ]
     },
     "execution_count": 33,
     "metadata": {},
     "output_type": "execute_result"
    }
   ],
   "source": [
    "yolov4_mse = ((modelEval[\"YoloV4\"] - modelEval[\"Actual Values\"])**2).mean()\n",
    "yolox_mse = ((modelEval[\"YOLOX + SAHI\"] - modelEval[\"Actual Values\"])**2).mean()\n",
    "pd.DataFrame({\"MSE\": [yolov4_mse, yolox_mse]}, index = [\"YOLO V4\", \"YOLOX + SAHI\"])"
   ]
  },
  {
   "cell_type": "markdown",
   "metadata": {},
   "source": [
    "Therefore, YOLOX + SAHI has a much lower MSE than YOLO V4.  \n",
    "\n",
    "Thus, since in both metrics YOLOX + SAHI performs better than YOLO V4, we will use YOLOX + SAHI."
   ]
  }
 ],
 "metadata": {
  "kernelspec": {
   "display_name": "Python 3",
   "language": "python",
   "name": "python3"
  },
  "language_info": {
   "codemirror_mode": {
    "name": "ipython",
    "version": 3
   },
   "file_extension": ".py",
   "mimetype": "text/x-python",
   "name": "python",
   "nbconvert_exporter": "python",
   "pygments_lexer": "ipython3",
   "version": "3.7.3"
  }
 },
 "nbformat": 4,
 "nbformat_minor": 2
}
